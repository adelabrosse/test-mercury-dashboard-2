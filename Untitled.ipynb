{
 "cells": [
  {
   "cell_type": "raw",
   "id": "d34039b3",
   "metadata": {},
   "source": [
    "---\n",
    "title: test_notebook\n",
    "description: Simple notebook with widgets demo\n",
    "show-code : False\n",
    "params:\n",
    "    fonctions:\n",
    "        input: select\n",
    "        label: Please select fonction(s) to plot\n",
    "        value: X\n",
    "        choices: [X, Y]\n",
    "        multi: True\n",
    "    range_:\n",
    "        input: range\n",
    "        label: Select range of values\n",
    "        value: [-10, 10]\n",
    "        min: -50\n",
    "        max: 50\n",
    "    color_X:\n",
    "        input: select\n",
    "        label: Please select the color of the X curve\n",
    "        value: r\n",
    "        choices: [r, b]\n",
    "        multi: False\n",
    "    color_Y:\n",
    "        input: select\n",
    "        label: Please select the color of the Y curve\n",
    "        value: b\n",
    "        choices: [r, b]\n",
    "        multi: False\n",
    "---"
   ]
  },
  {
   "cell_type": "code",
   "execution_count": 2,
   "id": "ea0bae66",
   "metadata": {},
   "outputs": [],
   "source": [
    "fonctions = ['X', 'Y']\n",
    "range_ = [-10, 10]\n",
    "color_X = 'r'\n",
    "color_Y = 'b'"
   ]
  },
  {
   "cell_type": "code",
   "execution_count": 7,
   "id": "1500d8ce",
   "metadata": {},
   "outputs": [
    {
     "name": "stdout",
     "output_type": "stream",
     "text": [
      "Requirement already satisfied: tqdm in /Users/augustin/opt/anaconda3/lib/python3.8/site-packages (4.59.0)\r\n"
     ]
    }
   ],
   "source": [
    "!pip install tqdm"
   ]
  },
  {
   "cell_type": "code",
   "execution_count": 8,
   "id": "3aa54eb9",
   "metadata": {},
   "outputs": [],
   "source": [
    "import pandas as pd\n",
    "import numpy as np\n",
    "import warnings\n",
    "from datetime import date\n",
    "import matplotlib.pyplot as plt\n",
    "%matplotlib inline\n",
    "from tqdm import tqdm"
   ]
  },
  {
   "cell_type": "code",
   "execution_count": 9,
   "id": "f3c72af1",
   "metadata": {},
   "outputs": [
    {
     "data": {
      "image/png": "[encoded data removed]",
      "text/plain": [
       "<Figure size 432x288 with 1 Axes>"
      ]
     },
     "metadata": {
      "needs_background": "light"
     },
     "output_type": "display_data"
    }
   ],
   "source": [
    "t = np.arange(range_[0], range_[1], 0.2)\n",
    "\n",
    "if 'X' in fonctions :\n",
    "    x = np.sin(t)\n",
    "    plt.plot(t, x, f\"{color_X}--\")\n",
    "if 'Y' in fonctions :\n",
    "    y = np.abs(np.sin(t))\n",
    "    plt.plot(t, y, f\"{color_Y}s\")\n",
    "plt.show()"
   ]
  },
  {
   "cell_type": "code",
   "execution_count": null,
   "id": "3ddf6875",
   "metadata": {},
   "outputs": [],
   "source": []
  }
 ],
 "metadata": {
  "kernelspec": {
   "display_name": "Python 3",
   "language": "python",
   "name": "python3"
  },
  "language_info": {
   "codemirror_mode": {
    "name": "ipython",
    "version": 3
   },
   "file_extension": ".py",
   "mimetype": "text/x-python",
   "name": "python",
   "nbconvert_exporter": "python",
   "pygments_lexer": "ipython3",
   "version": "3.8.2"
  }
 },
 "nbformat": 4,
 "nbformat_minor": 5
}
